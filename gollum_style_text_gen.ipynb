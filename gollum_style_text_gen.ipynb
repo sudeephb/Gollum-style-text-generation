{
 "cells": [
  {
   "cell_type": "code",
   "execution_count": null,
   "metadata": {},
   "outputs": [],
   "source": [
    "from nltk.util import bigrams, trigrams, everygrams\n",
    "import pandas as pd \n",
    "from nltk.lm.preprocessing import pad_both_ends, flatten, padded_everygram_pipeline\n",
    "from nltk.lm import MLE\n",
    "from nltk.tokenize.treebank import TreebankWordDetokenizer"
   ]
  },
  {
   "cell_type": "code",
   "execution_count": null,
   "metadata": {},
   "outputs": [],
   "source": [
    "lotr_dialog = pd.read_csv('./lord-of-the-rings-data/lotr_scripts.csv')"
   ]
  },
  {
   "cell_type": "code",
   "execution_count": null,
   "metadata": {},
   "outputs": [],
   "source": [
    "gollum_dialog = lotr_dialog[lotr_dialog['char'] == 'GOLLUM'].append(lotr_dialog[lotr_dialog['char'] == 'SMEAGOL'])"
   ]
  },
  {
   "cell_type": "code",
   "execution_count": null,
   "metadata": {},
   "outputs": [],
   "source": [
    "gollum_dialog_list = list(gollum_dialog['dialog'])"
   ]
  },
  {
   "cell_type": "code",
   "execution_count": null,
   "metadata": {},
   "outputs": [],
   "source": [
    "for i in range(len(gollum_dialog_list)):\n",
    "    gollum_dialog_list[i] = gollum_dialog_list[i].split()"
   ]
  },
  {
   "cell_type": "code",
   "execution_count": null,
   "metadata": {},
   "outputs": [],
   "source": [
    "padded_bigrams = list(pad_both_ends(gollum_dialog_list[0], n = 2))\n",
    "padded_bigrams"
   ]
  },
  {
   "cell_type": "code",
   "execution_count": null,
   "metadata": {},
   "outputs": [],
   "source": [
    "n = 3\n",
    "training_ngrams, padded_sents = padded_everygram_pipeline(n, gollum_dialog_list)\n"
   ]
  },
  {
   "cell_type": "code",
   "execution_count": null,
   "metadata": {},
   "outputs": [],
   "source": [
    "model = MLE(n)"
   ]
  },
  {
   "cell_type": "code",
   "execution_count": null,
   "metadata": {},
   "outputs": [],
   "source": [
    "TreebankWordDetokenizer?"
   ]
  },
  {
   "cell_type": "code",
   "execution_count": null,
   "metadata": {
    "tags": [
     "outputPrepend"
    ]
   },
   "outputs": [],
   "source": [
    "model.fit(training_ngrams, padded_sents)"
   ]
  },
  {
   "cell_type": "code",
   "execution_count": null,
   "metadata": {},
   "outputs": [],
   "source": [
    "model.generate(5, text_seed='precious')"
   ]
  },
  {
   "cell_type": "code",
   "execution_count": null,
   "metadata": {},
   "outputs": [],
   "source": [
    "detokenize = TreebankWordDetokenizer().detokenize\n",
    "def generate_sent(model, num_words, text_seed = \"\", random_seed = 5):    \n",
    "    '''\n",
    "    model : ngram language model\n",
    "    num_words: Maxu. number of words to generate\n",
    "    '''\n",
    "    content = []\n",
    "    for token in model.generate(num_words, text_seed = text_seed, random_seed = random_seed):\n",
    "        if token == '<s>':\n",
    "            continue\n",
    "        if token == '</s>':\n",
    "            break\n",
    "        content.append(token)\n",
    "    return detokenize(content)"
   ]
  },
  {
   "cell_type": "code",
   "execution_count": 194,
   "metadata": {},
   "outputs": [
    {
     "output_type": "stream",
     "name": "stdout",
     "text": "precious will be ours once the Hobbitses are dead!\nhe is a horrid, fat Hobbit who hates Smeagol and\nalways hungry. She always needs to' feed. She must eat.\nDon't ask Smeagol. Poor, poor Smeagol.\nThis way, Hobbits.Follow me!\n\nnice fish. ,Give it to him.He wants the precious.Always he\nWhat's it saying my precious, my love? Is Smeagol losing\nbelieve us. It was the precious. The precious will be\nlead them to her!\nit in! Go on, go on, pull it in! Go\n\n,We ought to wring his filthy little neck.,Kill him! Kill\n,Nice Hobbit.\nGone!Smeagol is free!\n\nruin it now.\nresting.Master needs to keep up his strength.\nus.We swears to do what you wants................We swears.\nfish, so juicy sweet.\nwish To catch a fish, so juicy sweet.\n\n\nwill see.\nI hate you.I hate you.\nshadows we must try.\nyou. ,Nice Hobbit.\nwill take youon safe paths through the marshes.Orcs don't use\nonly wish to catch a fish So juicy sweet\nhim? Master? ,Master carries a heavy burden Smeagol knows, heavy\nthem both! ,And then we takes it once they're dead.\nto see them'. Dead!\nGollum' Gollum', and we wants it!\nIs nice and cool So juicy sweet\nOnce they're dead. ,Ssssssssssssssh!\n\nmy love? Is Smeagol losing his nerve?\nmaster. We promised. You must believe us. It wasn't us.\nMaster's my friend.\nNo, not very nice at all, my love. She\nfreezes!Nasty Elves twisted it.\nGood Smeagol always helps.\nWhat did you call me?\nsurvived because of me.\ninto Mordor.\nWake up! ,Wake up sleepies! We must go now?\n,It tries to chokes us!We can't eats Hobbit food!We must\n\nway. Master says to show himthe way into Mordor.So good\nus alone!\n"
    }
   ],
   "source": [
    "for i in range(500,550):\n",
    "    print(generate_sent(model, 10, random_seed=i))"
   ]
  },
  {
   "cell_type": "code",
   "execution_count": null,
   "metadata": {},
   "outputs": [],
   "source": []
  },
  {
   "cell_type": "code",
   "execution_count": null,
   "metadata": {},
   "outputs": [],
   "source": []
  }
 ],
 "metadata": {
  "kernelspec": {
   "display_name": "Python 3.7.5 64-bit",
   "language": "python",
   "name": "python37564bit45312e31c56147daa4001c654b7cd44f"
  },
  "language_info": {
   "codemirror_mode": {
    "name": "ipython",
    "version": 3
   },
   "file_extension": ".py",
   "mimetype": "text/x-python",
   "name": "python",
   "nbconvert_exporter": "python",
   "pygments_lexer": "ipython3",
   "version": "3.7.5-final"
  }
 },
 "nbformat": 4,
 "nbformat_minor": 4
}